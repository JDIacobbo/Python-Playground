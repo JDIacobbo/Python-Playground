{
 "cells": [
  {
   "cell_type": "code",
   "execution_count": 1,
   "id": "dcdb69c5-172f-4e82-a675-74f2eb31b390",
   "metadata": {},
   "outputs": [],
   "source": [
    "import requests, json, pprint"
   ]
  },
  {
   "cell_type": "code",
   "execution_count": 2,
   "id": "310740bd-6c12-4e36-9826-cd0aae435bc8",
   "metadata": {},
   "outputs": [],
   "source": [
    "#Set Username\n",
    "\n",
    "username = \"jdiacobbo\""
   ]
  },
  {
   "cell_type": "code",
   "execution_count": 3,
   "id": "e1442cc0-8dda-41f6-ada5-a56acf43e189",
   "metadata": {},
   "outputs": [],
   "source": [
    "#Call API for user info\n",
    "\n",
    "userresponse = requests.get(\"https://api.sleeper.app/v1/user/\" + username)"
   ]
  },
  {
   "cell_type": "code",
   "execution_count": 4,
   "id": "5e26bd00-6d9e-4a42-8f65-38e4cbb4db5b",
   "metadata": {},
   "outputs": [
    {
     "name": "stdout",
     "output_type": "stream",
     "text": [
      "200\n"
     ]
    }
   ],
   "source": [
    "#Confirm response\n",
    "\n",
    "print(userresponse.status_code)"
   ]
  },
  {
   "cell_type": "code",
   "execution_count": 5,
   "id": "d1dd9fc2-c001-496f-99aa-f7e12add54df",
   "metadata": {},
   "outputs": [
    {
     "name": "stdout",
     "output_type": "stream",
     "text": [
      "{'verification': None, 'username': 'jdiacobbo', 'user_id': '476414249099325440', 'token': None, 'summoner_region': None, 'summoner_name': None, 'solicitable': None, 'real_name': None, 'phone': None, 'pending': None, 'notifications': None, 'is_bot': False, 'email': None, 'display_name': 'jdiacobbo', 'deleted': None, 'data_updated': None, 'currencies': None, 'created': None, 'cookies': None, 'avatar': None}\n"
     ]
    }
   ],
   "source": [
    "#Print Data\n",
    "\n",
    "print(userresponse.json())"
   ]
  },
  {
   "cell_type": "code",
   "execution_count": 6,
   "id": "a81fab29-413b-4fe7-b638-548b0ae72891",
   "metadata": {},
   "outputs": [
    {
     "name": "stdout",
     "output_type": "stream",
     "text": [
      "{'avatar': None,\n",
      " 'cookies': None,\n",
      " 'created': None,\n",
      " 'currencies': None,\n",
      " 'data_updated': None,\n",
      " 'deleted': None,\n",
      " 'display_name': 'jdiacobbo',\n",
      " 'email': None,\n",
      " 'is_bot': False,\n",
      " 'notifications': None,\n",
      " 'pending': None,\n",
      " 'phone': None,\n",
      " 'real_name': None,\n",
      " 'solicitable': None,\n",
      " 'summoner_name': None,\n",
      " 'summoner_region': None,\n",
      " 'token': None,\n",
      " 'user_id': '476414249099325440',\n",
      " 'username': 'jdiacobbo',\n",
      " 'verification': None}\n"
     ]
    }
   ],
   "source": [
    "#Formatted Reponse\n",
    "\n",
    "pprint.pprint(userresponse.json())"
   ]
  },
  {
   "cell_type": "code",
   "execution_count": 7,
   "id": "17046e34-75e2-4587-b83f-a2b384f42b81",
   "metadata": {},
   "outputs": [
    {
     "name": "stdout",
     "output_type": "stream",
     "text": [
      "476414249099325440\n"
     ]
    }
   ],
   "source": [
    "#Get User ID\n",
    "userid = userresponse.json()['user_id']\n",
    "\n",
    "print(userid)"
   ]
  },
  {
   "cell_type": "code",
   "execution_count": 8,
   "id": "ae3afda9-4a78-4b1d-a1bb-bdde98a7e05a",
   "metadata": {},
   "outputs": [],
   "source": [
    "#Get League ID\n",
    "\n",
    "leagueresponse =  requests.get(\"https://api.sleeper.app/v1/user/\" + userid + \"/leagues/nfl/2021\")"
   ]
  },
  {
   "cell_type": "code",
   "execution_count": 9,
   "id": "f8e18a62-793b-4da8-883f-5898903a7c7f",
   "metadata": {},
   "outputs": [
    {
     "name": "stdout",
     "output_type": "stream",
     "text": [
      "200\n"
     ]
    }
   ],
   "source": [
    "#Confirm response\n",
    "\n",
    "print(leagueresponse.status_code)"
   ]
  },
  {
   "cell_type": "code",
   "execution_count": 10,
   "id": "7c989d68-9d02-4b8d-be94-2f2b50ea175e",
   "metadata": {},
   "outputs": [
    {
     "name": "stdout",
     "output_type": "stream",
     "text": [
      "[{'total_rosters': 10, 'status': 'in_season', 'sport': 'nfl', 'shard': 182, 'settings': {'max_keepers': 2, 'draft_rounds': 3, 'trade_review_days': 2, 'reserve_allow_dnr': 0, 'capacity_override': 0, 'pick_trading': 0, 'disable_trades': 0, 'taxi_years': 1, 'taxi_allow_vets': 0, 'best_ball': 0, 'last_report': 11, 'disable_adds': 0, 'waiver_type': 2, 'bench_lock': 1, 'reserve_allow_sus': 0, 'type': 0, 'reserve_allow_cov': 1, 'waiver_clear_days': 1, 'daily_waivers_last_ran': 8, 'waiver_day_of_week': 2, 'start_week': 1, 'playoff_teams': 6, 'num_teams': 10, 'reserve_slots': 2, 'playoff_round_type': 0, 'daily_waivers_hour': 0, 'waiver_budget': 125, 'reserve_allow_out': 1, 'offseason_adds': 0, 'last_scored_leg': 11, 'playoff_seed_type': 0, 'daily_waivers': 0, 'playoff_week_start': 15, 'daily_waivers_days': 1093, 'league_average_match': 0, 'leg': 12, 'trade_deadline': 11, 'reserve_allow_doubtful': 0, 'taxi_deadline': 4, 'reserve_allow_na': 0, 'taxi_slots': 0, 'playoff_type': 1}, 'season_type': 'regular', 'season': '2021', 'scoring_settings': {'yds_allow_400_449': 0.0, 'yds_allow_550p': 0.0, 'yds_allow_100_199': 0.0, 'pass_2pt': 2.0, 'pass_int': -2.0, 'fgmiss': -1.0, 'rec_yd': 0.10000000149011612, 'xpmiss': 0.0, 'fgm_30_39': 3.0, 'yds_allow_450_499': 0.0, 'blk_kick': 2.0, 'pts_allow_7_13': 6.0, 'fgm_20_29': 3.0, 'fgm_40_49': 4.0, 'pts_allow_1_6': 8.0, 'yds_allow_500_549': 0.0, 'yds_allow_0_100': 0.0, 'yds_allow_350_399': 0.0, 'pts_allow_28_34': 0.0, 'fgm_50p': 5.0, 'fum_rec': 2.0, 'def_td': 6.0, 'fgm_0_19': 3.0, 'rush_fd': 0.5, 'int': 2.0, 'pts_allow_0': 10.0, 'pts_allow_21_27': 2.0, 'rec_2pt': 2.0, 'rec': 0.5, 'xpm': 1.0, 'def_st_fum_rec': 2.0, 'def_st_td': 6.0, 'sack': 1.0, 'fum_rec_td': 6.0, 'rush_2pt': 2.0, 'rec_td': 6.0, 'pts_allow_35p': 0.0, 'pts_allow_14_20': 4.0, 'rush_yd': 0.10000000149011612, 'pass_yd': 0.03999999910593033, 'pass_td': 6.0, 'rush_td': 6.0, 'def_2pt': 0.0, 'fum_lost': -2.0, 'yds_allow_200_299': 0.0, 'safe': 2.0, 'rec_fd': 0.5}, 'roster_positions': ['QB', 'RB', 'RB', 'WR', 'WR', 'WR', 'TE', 'FLEX', 'K', 'DEF', 'BN', 'BN', 'BN', 'BN', 'BN', 'BN', 'BN'], 'previous_league_id': '601170428270006272', 'name': 'Epic Fantasy Football League', 'metadata': None, 'loser_bracket_id': None, 'league_id': '733015397435039744', 'last_transaction_id': None, 'last_read_id': '769800449842114560', 'last_pinned_message_id': None, 'last_message_time': 1637897238744, 'last_message_text_map': None, 'last_message_id': '769800449842114560', 'last_message_attachment': None, 'last_author_is_bot': True, 'last_author_id': '166666666666666666', 'last_author_display_name': 'sys', 'last_author_avatar': None, 'group_id': None, 'draft_id': '733015397435039745', 'display_order': 0, 'company_id': None, 'bracket_id': None, 'avatar': None}]\n"
     ]
    }
   ],
   "source": [
    "#Print Data\n",
    "\n",
    "print(leagueresponse.json())"
   ]
  },
  {
   "cell_type": "code",
   "execution_count": 11,
   "id": "e540bc34-657b-48c0-b300-23a887a56d08",
   "metadata": {},
   "outputs": [
    {
     "name": "stdout",
     "output_type": "stream",
     "text": [
      "[{'avatar': None,\n",
      "  'bracket_id': None,\n",
      "  'company_id': None,\n",
      "  'display_order': 0,\n",
      "  'draft_id': '733015397435039745',\n",
      "  'group_id': None,\n",
      "  'last_author_avatar': None,\n",
      "  'last_author_display_name': 'sys',\n",
      "  'last_author_id': '166666666666666666',\n",
      "  'last_author_is_bot': True,\n",
      "  'last_message_attachment': None,\n",
      "  'last_message_id': '769800449842114560',\n",
      "  'last_message_text_map': None,\n",
      "  'last_message_time': 1637897238744,\n",
      "  'last_pinned_message_id': None,\n",
      "  'last_read_id': '769800449842114560',\n",
      "  'last_transaction_id': None,\n",
      "  'league_id': '733015397435039744',\n",
      "  'loser_bracket_id': None,\n",
      "  'metadata': None,\n",
      "  'name': 'Epic Fantasy Football League',\n",
      "  'previous_league_id': '601170428270006272',\n",
      "  'roster_positions': ['QB',\n",
      "                       'RB',\n",
      "                       'RB',\n",
      "                       'WR',\n",
      "                       'WR',\n",
      "                       'WR',\n",
      "                       'TE',\n",
      "                       'FLEX',\n",
      "                       'K',\n",
      "                       'DEF',\n",
      "                       'BN',\n",
      "                       'BN',\n",
      "                       'BN',\n",
      "                       'BN',\n",
      "                       'BN',\n",
      "                       'BN',\n",
      "                       'BN'],\n",
      "  'scoring_settings': {'blk_kick': 2.0,\n",
      "                       'def_2pt': 0.0,\n",
      "                       'def_st_fum_rec': 2.0,\n",
      "                       'def_st_td': 6.0,\n",
      "                       'def_td': 6.0,\n",
      "                       'fgm_0_19': 3.0,\n",
      "                       'fgm_20_29': 3.0,\n",
      "                       'fgm_30_39': 3.0,\n",
      "                       'fgm_40_49': 4.0,\n",
      "                       'fgm_50p': 5.0,\n",
      "                       'fgmiss': -1.0,\n",
      "                       'fum_lost': -2.0,\n",
      "                       'fum_rec': 2.0,\n",
      "                       'fum_rec_td': 6.0,\n",
      "                       'int': 2.0,\n",
      "                       'pass_2pt': 2.0,\n",
      "                       'pass_int': -2.0,\n",
      "                       'pass_td': 6.0,\n",
      "                       'pass_yd': 0.03999999910593033,\n",
      "                       'pts_allow_0': 10.0,\n",
      "                       'pts_allow_14_20': 4.0,\n",
      "                       'pts_allow_1_6': 8.0,\n",
      "                       'pts_allow_21_27': 2.0,\n",
      "                       'pts_allow_28_34': 0.0,\n",
      "                       'pts_allow_35p': 0.0,\n",
      "                       'pts_allow_7_13': 6.0,\n",
      "                       'rec': 0.5,\n",
      "                       'rec_2pt': 2.0,\n",
      "                       'rec_fd': 0.5,\n",
      "                       'rec_td': 6.0,\n",
      "                       'rec_yd': 0.10000000149011612,\n",
      "                       'rush_2pt': 2.0,\n",
      "                       'rush_fd': 0.5,\n",
      "                       'rush_td': 6.0,\n",
      "                       'rush_yd': 0.10000000149011612,\n",
      "                       'sack': 1.0,\n",
      "                       'safe': 2.0,\n",
      "                       'xpm': 1.0,\n",
      "                       'xpmiss': 0.0,\n",
      "                       'yds_allow_0_100': 0.0,\n",
      "                       'yds_allow_100_199': 0.0,\n",
      "                       'yds_allow_200_299': 0.0,\n",
      "                       'yds_allow_350_399': 0.0,\n",
      "                       'yds_allow_400_449': 0.0,\n",
      "                       'yds_allow_450_499': 0.0,\n",
      "                       'yds_allow_500_549': 0.0,\n",
      "                       'yds_allow_550p': 0.0},\n",
      "  'season': '2021',\n",
      "  'season_type': 'regular',\n",
      "  'settings': {'bench_lock': 1,\n",
      "               'best_ball': 0,\n",
      "               'capacity_override': 0,\n",
      "               'daily_waivers': 0,\n",
      "               'daily_waivers_days': 1093,\n",
      "               'daily_waivers_hour': 0,\n",
      "               'daily_waivers_last_ran': 8,\n",
      "               'disable_adds': 0,\n",
      "               'disable_trades': 0,\n",
      "               'draft_rounds': 3,\n",
      "               'last_report': 11,\n",
      "               'last_scored_leg': 11,\n",
      "               'league_average_match': 0,\n",
      "               'leg': 12,\n",
      "               'max_keepers': 2,\n",
      "               'num_teams': 10,\n",
      "               'offseason_adds': 0,\n",
      "               'pick_trading': 0,\n",
      "               'playoff_round_type': 0,\n",
      "               'playoff_seed_type': 0,\n",
      "               'playoff_teams': 6,\n",
      "               'playoff_type': 1,\n",
      "               'playoff_week_start': 15,\n",
      "               'reserve_allow_cov': 1,\n",
      "               'reserve_allow_dnr': 0,\n",
      "               'reserve_allow_doubtful': 0,\n",
      "               'reserve_allow_na': 0,\n",
      "               'reserve_allow_out': 1,\n",
      "               'reserve_allow_sus': 0,\n",
      "               'reserve_slots': 2,\n",
      "               'start_week': 1,\n",
      "               'taxi_allow_vets': 0,\n",
      "               'taxi_deadline': 4,\n",
      "               'taxi_slots': 0,\n",
      "               'taxi_years': 1,\n",
      "               'trade_deadline': 11,\n",
      "               'trade_review_days': 2,\n",
      "               'type': 0,\n",
      "               'waiver_budget': 125,\n",
      "               'waiver_clear_days': 1,\n",
      "               'waiver_day_of_week': 2,\n",
      "               'waiver_type': 2},\n",
      "  'shard': 182,\n",
      "  'sport': 'nfl',\n",
      "  'status': 'in_season',\n",
      "  'total_rosters': 10}]\n"
     ]
    }
   ],
   "source": [
    "#Formatted Reponse\n",
    "\n",
    "pprint.pprint(leagueresponse.json())"
   ]
  },
  {
   "cell_type": "code",
   "execution_count": 12,
   "id": "2bf7a1d0-8c75-4e3e-921f-b1c057c8d650",
   "metadata": {},
   "outputs": [
    {
     "name": "stdout",
     "output_type": "stream",
     "text": [
      "733015397435039744\n",
      "733015397435039744\n"
     ]
    }
   ],
   "source": [
    "#Get League ID\n",
    "\n",
    "leaguedata = leagueresponse.json()\n",
    "leaguedata = leaguedata[0]\n",
    "\n",
    "print(leaguedata['league_id'])\n",
    "\n",
    "leagueid = leaguedata['league_id']\n",
    "\n",
    "print(leagueid)"
   ]
  },
  {
   "cell_type": "code",
   "execution_count": null,
   "id": "b58ed67f-f0d7-4449-a977-366d5ad1a452",
   "metadata": {},
   "outputs": [],
   "source": []
  }
 ],
 "metadata": {
  "kernelspec": {
   "display_name": "Python 3 (ipykernel)",
   "language": "python",
   "name": "python3"
  },
  "language_info": {
   "codemirror_mode": {
    "name": "ipython",
    "version": 3
   },
   "file_extension": ".py",
   "mimetype": "text/x-python",
   "name": "python",
   "nbconvert_exporter": "python",
   "pygments_lexer": "ipython3",
   "version": "3.7.12"
  }
 },
 "nbformat": 4,
 "nbformat_minor": 5
}
